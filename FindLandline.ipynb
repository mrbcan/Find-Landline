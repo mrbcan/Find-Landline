{
 "cells": [
  {
   "cell_type": "code",
   "execution_count": 92,
   "id": "218ec085",
   "metadata": {},
   "outputs": [
    {
     "name": "stdout",
     "output_type": "stream",
     "text": [
      "['05333371000', '5354321938', '3840812', '545 12 15', '0212 512 12 78', '0312 244 12 45', '0216 441 45 12', '0273 574 19 1', '53534156 43', '5422388080', '1111111', '3121111111', '+90543 337 91 31', '272 415 56 58', '0312 244 12 47', '0312 244 12 48', '0315 233 12 33', '5444321939', '02164177175']\n"
     ]
    }
   ],
   "source": [
    "\n",
    "import pandas as pd \n",
    "\n",
    "\n",
    "customers_id=[]\n",
    "phone_numbers=[]\n",
    "phone_types=[] #hat tipini belirleyen liste\n",
    "\n",
    "# müşteri bilgilerini dosyadan okuyoz ve liste içinde sözlüğe aktarıyoruz.\n",
    "with open ('veri.txt','r') as f:\n",
    "   \n",
    "    next(f)#ilk satırı atlıyoruz\n",
    "    for line in f:\n",
    "        #satırların başı ve sondaki boşlukları silip, aralarındaki ilk boşluktan ayırıyoruz\n",
    "        fields=line.strip().split(\" \",1)\n",
    "        customers_id.append(fields[0])\n",
    "        phone_numbers.append(fields[1])\n",
    "    \n",
    "    \n",
    "    print(customer_phones)\n",
    "        "
   ]
  },
  {
   "cell_type": "code",
   "execution_count": 93,
   "id": "583d6adc",
   "metadata": {},
   "outputs": [
    {
     "data": {
      "text/plain": [
       "'sabit hat / İstanbul(Avrupa Yakası)'"
      ]
     },
     "execution_count": 93,
     "metadata": {},
     "output_type": "execute_result"
    }
   ],
   "source": [
    "city_landlines={}\n",
    "#Bu fonksiyon sabit hat numarasının hangi ile bağlı olduğunu 'FindCityLandline' fonksiyonu ile bulur.\n",
    "def get_key(val):\n",
    "    for key,value in city_landlines.items():\n",
    "        if val==value:\n",
    "            return key\n",
    "    return \"Bu numaranın herhangi bir alan kodu yoktur.\"\n",
    "\n",
    "\n",
    "def FindCityLandline(phone_number):\n",
    "    #Numara 0 ile başlıyorsa siliyoruz\n",
    "    if phone_number[:1]=='0':\n",
    "        phone_number=phone_number[1:]\n",
    "    \n",
    "\n",
    "        \n",
    "    #sabit veya cep telefonu hattı olmasını belirliyoruz\n",
    "    phone_type='cep telefonu' if phone_number[:2] in ['+9','90','50','55','53','54'] else 'sabit hat'\n",
    "    uchane=str(phone_number)[:3]#Numaranın ilk üç hanesini alıyoruz\n",
    "    \n",
    "    \n",
    "    #Eğer sabit hatsa, Hangi il alan kodu olduğunu buluyoruz.'sabit_hatlar.txt'(wikipedia'dan copy-paste)\n",
    "    if(phone_type=='sabit hat'):\n",
    "        with open('sabit_hatlar.txt','r',encoding=\"utf8\") as file:\n",
    "            for satir in file:\n",
    "                yar=satir.strip().split(\"\\t\")\n",
    "                city_landlines[yar[0]]=yar[1]\n",
    "                \n",
    "        phone_type=phone_type+\" / \"+get_key(uchane)\n",
    "\n",
    "    return  phone_type\n",
    "\n",
    "FindCityLandline('2125557788')#test\n",
    "            "
   ]
  },
  {
   "cell_type": "code",
   "execution_count": 94,
   "id": "d8389285",
   "metadata": {},
   "outputs": [
    {
     "name": "stdout",
     "output_type": "stream",
     "text": [
      "['cep telefonu', 'cep telefonu', 'sabit hat / Nevşehir', 'cep telefonu', 'sabit hat / İstanbul(Avrupa Yakası)', 'sabit hat / Ankara', 'sabit hat / İstanbul(Anadolu Yakası)', 'sabit hat / Bu numaranın herhangi bir alan kodu yoktur.', 'cep telefonu', 'cep telefonu', 'sabit hat / Bu numaranın herhangi bir alan kodu yoktur.', 'sabit hat / Ankara', 'cep telefonu', 'sabit hat / Afyonkarahisar', 'sabit hat / Ankara', 'sabit hat / Ankara', 'sabit hat / Bu numaranın herhangi bir alan kodu yoktur.', 'cep telefonu', 'sabit hat / İstanbul(Anadolu Yakası)']\n"
     ]
    }
   ],
   "source": [
    "for phone_number in phone_numbers:#telefon numarlarına karşılık gelen hat tiplerini listeye atıyoruz.\n",
    "    phone_types.append(FindCityLandline(phone_number))\n",
    "    \n",
    "print(phone_types)"
   ]
  },
  {
   "cell_type": "code",
   "execution_count": 95,
   "id": "c57f8a5d",
   "metadata": {},
   "outputs": [
    {
     "name": "stderr",
     "output_type": "stream",
     "text": [
      "C:\\Users\\Mr Bcan\\AppData\\Local\\Temp\\ipykernel_7800\\2846865760.py:7: FutureWarning: this method is deprecated in favour of `Styler.hide(axis=\"index\")`\n",
      "  df.style.hide_index()\n"
     ]
    },
    {
     "data": {
      "text/html": [
       "<style type=\"text/css\">\n",
       "</style>\n",
       "<table id=\"T_dfb3a\">\n",
       "  <thead>\n",
       "    <tr>\n",
       "      <th id=\"T_dfb3a_level0_col0\" class=\"col_heading level0 col0\" >MUSTERI_NO</th>\n",
       "      <th id=\"T_dfb3a_level0_col1\" class=\"col_heading level0 col1\" >TELEFON</th>\n",
       "      <th id=\"T_dfb3a_level0_col2\" class=\"col_heading level0 col2\" >HAT</th>\n",
       "    </tr>\n",
       "  </thead>\n",
       "  <tbody>\n",
       "    <tr>\n",
       "      <td id=\"T_dfb3a_row0_col0\" class=\"data row0 col0\" >1</td>\n",
       "      <td id=\"T_dfb3a_row0_col1\" class=\"data row0 col1\" >05333371000</td>\n",
       "      <td id=\"T_dfb3a_row0_col2\" class=\"data row0 col2\" >cep telefonu</td>\n",
       "    </tr>\n",
       "    <tr>\n",
       "      <td id=\"T_dfb3a_row1_col0\" class=\"data row1 col0\" >2</td>\n",
       "      <td id=\"T_dfb3a_row1_col1\" class=\"data row1 col1\" >5354321938</td>\n",
       "      <td id=\"T_dfb3a_row1_col2\" class=\"data row1 col2\" >cep telefonu</td>\n",
       "    </tr>\n",
       "    <tr>\n",
       "      <td id=\"T_dfb3a_row2_col0\" class=\"data row2 col0\" >3</td>\n",
       "      <td id=\"T_dfb3a_row2_col1\" class=\"data row2 col1\" >3840812</td>\n",
       "      <td id=\"T_dfb3a_row2_col2\" class=\"data row2 col2\" >sabit hat / Nevşehir</td>\n",
       "    </tr>\n",
       "    <tr>\n",
       "      <td id=\"T_dfb3a_row3_col0\" class=\"data row3 col0\" >3</td>\n",
       "      <td id=\"T_dfb3a_row3_col1\" class=\"data row3 col1\" >545 12 15</td>\n",
       "      <td id=\"T_dfb3a_row3_col2\" class=\"data row3 col2\" >cep telefonu</td>\n",
       "    </tr>\n",
       "    <tr>\n",
       "      <td id=\"T_dfb3a_row4_col0\" class=\"data row4 col0\" >4</td>\n",
       "      <td id=\"T_dfb3a_row4_col1\" class=\"data row4 col1\" >0212 512 12 78</td>\n",
       "      <td id=\"T_dfb3a_row4_col2\" class=\"data row4 col2\" >sabit hat / İstanbul(Avrupa Yakası)</td>\n",
       "    </tr>\n",
       "    <tr>\n",
       "      <td id=\"T_dfb3a_row5_col0\" class=\"data row5 col0\" >5</td>\n",
       "      <td id=\"T_dfb3a_row5_col1\" class=\"data row5 col1\" >0312 244 12 45</td>\n",
       "      <td id=\"T_dfb3a_row5_col2\" class=\"data row5 col2\" >sabit hat / Ankara</td>\n",
       "    </tr>\n",
       "    <tr>\n",
       "      <td id=\"T_dfb3a_row6_col0\" class=\"data row6 col0\" >6</td>\n",
       "      <td id=\"T_dfb3a_row6_col1\" class=\"data row6 col1\" >0216 441 45 12</td>\n",
       "      <td id=\"T_dfb3a_row6_col2\" class=\"data row6 col2\" >sabit hat / İstanbul(Anadolu Yakası)</td>\n",
       "    </tr>\n",
       "    <tr>\n",
       "      <td id=\"T_dfb3a_row7_col0\" class=\"data row7 col0\" >7</td>\n",
       "      <td id=\"T_dfb3a_row7_col1\" class=\"data row7 col1\" >0273 574 19 1</td>\n",
       "      <td id=\"T_dfb3a_row7_col2\" class=\"data row7 col2\" >sabit hat / Bu numaranın herhangi bir alan kodu yoktur.</td>\n",
       "    </tr>\n",
       "    <tr>\n",
       "      <td id=\"T_dfb3a_row8_col0\" class=\"data row8 col0\" >7</td>\n",
       "      <td id=\"T_dfb3a_row8_col1\" class=\"data row8 col1\" >53534156 43</td>\n",
       "      <td id=\"T_dfb3a_row8_col2\" class=\"data row8 col2\" >cep telefonu</td>\n",
       "    </tr>\n",
       "    <tr>\n",
       "      <td id=\"T_dfb3a_row9_col0\" class=\"data row9 col0\" >8</td>\n",
       "      <td id=\"T_dfb3a_row9_col1\" class=\"data row9 col1\" >5422388080</td>\n",
       "      <td id=\"T_dfb3a_row9_col2\" class=\"data row9 col2\" >cep telefonu</td>\n",
       "    </tr>\n",
       "    <tr>\n",
       "      <td id=\"T_dfb3a_row10_col0\" class=\"data row10 col0\" >9</td>\n",
       "      <td id=\"T_dfb3a_row10_col1\" class=\"data row10 col1\" >1111111</td>\n",
       "      <td id=\"T_dfb3a_row10_col2\" class=\"data row10 col2\" >sabit hat / Bu numaranın herhangi bir alan kodu yoktur.</td>\n",
       "    </tr>\n",
       "    <tr>\n",
       "      <td id=\"T_dfb3a_row11_col0\" class=\"data row11 col0\" >10</td>\n",
       "      <td id=\"T_dfb3a_row11_col1\" class=\"data row11 col1\" >3121111111</td>\n",
       "      <td id=\"T_dfb3a_row11_col2\" class=\"data row11 col2\" >sabit hat / Ankara</td>\n",
       "    </tr>\n",
       "    <tr>\n",
       "      <td id=\"T_dfb3a_row12_col0\" class=\"data row12 col0\" >11</td>\n",
       "      <td id=\"T_dfb3a_row12_col1\" class=\"data row12 col1\" >+90543 337 91 31</td>\n",
       "      <td id=\"T_dfb3a_row12_col2\" class=\"data row12 col2\" >cep telefonu</td>\n",
       "    </tr>\n",
       "    <tr>\n",
       "      <td id=\"T_dfb3a_row13_col0\" class=\"data row13 col0\" >12</td>\n",
       "      <td id=\"T_dfb3a_row13_col1\" class=\"data row13 col1\" >272 415 56 58</td>\n",
       "      <td id=\"T_dfb3a_row13_col2\" class=\"data row13 col2\" >sabit hat / Afyonkarahisar</td>\n",
       "    </tr>\n",
       "    <tr>\n",
       "      <td id=\"T_dfb3a_row14_col0\" class=\"data row14 col0\" >13</td>\n",
       "      <td id=\"T_dfb3a_row14_col1\" class=\"data row14 col1\" >0312 244 12 47</td>\n",
       "      <td id=\"T_dfb3a_row14_col2\" class=\"data row14 col2\" >sabit hat / Ankara</td>\n",
       "    </tr>\n",
       "    <tr>\n",
       "      <td id=\"T_dfb3a_row15_col0\" class=\"data row15 col0\" >14</td>\n",
       "      <td id=\"T_dfb3a_row15_col1\" class=\"data row15 col1\" >0312 244 12 48</td>\n",
       "      <td id=\"T_dfb3a_row15_col2\" class=\"data row15 col2\" >sabit hat / Ankara</td>\n",
       "    </tr>\n",
       "    <tr>\n",
       "      <td id=\"T_dfb3a_row16_col0\" class=\"data row16 col0\" >15</td>\n",
       "      <td id=\"T_dfb3a_row16_col1\" class=\"data row16 col1\" >0315 233 12 33</td>\n",
       "      <td id=\"T_dfb3a_row16_col2\" class=\"data row16 col2\" >sabit hat / Bu numaranın herhangi bir alan kodu yoktur.</td>\n",
       "    </tr>\n",
       "    <tr>\n",
       "      <td id=\"T_dfb3a_row17_col0\" class=\"data row17 col0\" >15</td>\n",
       "      <td id=\"T_dfb3a_row17_col1\" class=\"data row17 col1\" >5444321939</td>\n",
       "      <td id=\"T_dfb3a_row17_col2\" class=\"data row17 col2\" >cep telefonu</td>\n",
       "    </tr>\n",
       "    <tr>\n",
       "      <td id=\"T_dfb3a_row18_col0\" class=\"data row18 col0\" >16</td>\n",
       "      <td id=\"T_dfb3a_row18_col1\" class=\"data row18 col1\" >02164177175</td>\n",
       "      <td id=\"T_dfb3a_row18_col2\" class=\"data row18 col2\" >sabit hat / İstanbul(Anadolu Yakası)</td>\n",
       "    </tr>\n",
       "  </tbody>\n",
       "</table>\n"
      ],
      "text/plain": [
       "<pandas.io.formats.style.Styler at 0x1c8e2c93e50>"
      ]
     },
     "execution_count": 95,
     "metadata": {},
     "output_type": "execute_result"
    }
   ],
   "source": [
    "#Dataframe'i olusturuyoz.İki yolu var  1)listeleri zipleme 2)sözlüge cevirme\n",
    "zipList=list(zip(customers_id,phone_numbers,phone_types))\n",
    "df=pd.DataFrame(zipList,columns=['MUSTERI_NO','TELEFON','HAT'])\n",
    "#CSV file yazıyoruz\n",
    "df.to_csv('FileCreated.csv',index=False)\n",
    "#indexsiz Son Halini görelim\n",
    "df.style.hide_index()"
   ]
  }
 ],
 "metadata": {
  "kernelspec": {
   "display_name": "Python 3 (ipykernel)",
   "language": "python",
   "name": "python3"
  },
  "language_info": {
   "codemirror_mode": {
    "name": "ipython",
    "version": 3
   },
   "file_extension": ".py",
   "mimetype": "text/x-python",
   "name": "python",
   "nbconvert_exporter": "python",
   "pygments_lexer": "ipython3",
   "version": "3.11.0"
  }
 },
 "nbformat": 4,
 "nbformat_minor": 5
}
